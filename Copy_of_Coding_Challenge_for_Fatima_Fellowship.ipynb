{
  "nbformat": 4,
  "nbformat_minor": 0,
  "metadata": {
    "colab": {
      "name": "Copy of Coding Challenge for Fatima Fellowship",
      "provenance": [],
      "collapsed_sections": [],
      "include_colab_link": true
    },
    "kernelspec": {
      "name": "python3",
      "display_name": "Python 3"
    }
  },
  "cells": [
    {
      "cell_type": "markdown",
      "metadata": {
        "id": "view-in-github",
        "colab_type": "text"
      },
      "source": [
        "<a href=\"https://colab.research.google.com/github/subha-v/FatimaFellowshipProjectPublic/blob/main/Copy_of_Coding_Challenge_for_Fatima_Fellowship.ipynb\" target=\"_parent\"><img src=\"https://colab.research.google.com/assets/colab-badge.svg\" alt=\"Open In Colab\"/></a>"
      ]
    },
    {
      "cell_type": "markdown",
      "metadata": {
        "id": "eBpjBBZc6IvA"
      },
      "source": [
        "# Fatima Fellowship Quick Coding Challenge (Pick 1)\n",
        "\n",
        "Thank you for applying to the Fatima Fellowship. To help us select the Fellows and assess your ability to do machine learning research, we are asking that you complete a short coding challenge. Please pick **1 of these 5** coding challenges, whichever is most aligned with your interests. \n",
        "\n",
        "**Due date: 1 week**\n",
        "\n",
        "**How to submit**: Please make a copy of this colab notebook, add your code and results, and submit your colab notebook to the submission link below. If you have never used a colab notebook, [check out this video](https://www.youtube.com/watch?v=i-HnvsehuSw).\n",
        "\n",
        "**Submission link**: https://airtable.com/shrXy3QKSsO2yALd3"
      ]
    },
    {
      "cell_type": "markdown",
      "metadata": {
        "id": "braBzmRpMe7_"
      },
      "source": [
        "# 1. Deep Learning for Vision"
      ]
    },
    {
      "cell_type": "markdown",
      "metadata": {
        "id": "1IWw-NZf5WfF"
      },
      "source": [
        "**Upside down detector**: Train a model to detect if images are upside down\n",
        "\n",
        "* Pick a dataset of natural images (we suggest looking at datasets on the [Hugging Face Hub](https://huggingface.co/datasets?task_categories=task_categories:image-classification&sort=downloads))\n",
        "* Synthetically turn some of images upside down. Create a training and test set.\n",
        "* Build a neural network (using Tensorflow, PyTorch, or any framework you like)\n",
        "* Train it to classify image orientation until a reasonable accuracy is reached\n",
        "* [Upload the the model to the Hugging Face Hub](https://huggingface.co/docs/hub/adding-a-model), and add a link to your model below.\n",
        "* Look at some of the images that were classified incorrectly. Please explain what you might do to improve your model's performance on these images in the future (you do not need to impelement these suggestions)\n",
        "\n",
        "**Submission instructions**: Please write your code below and include some examples of images that were classified"
      ]
    },
    {
      "cell_type": "code",
      "source": [
        "### WRITE YOUR CODE TO TRAIN THE MODEL HERE"
      ],
      "metadata": {
        "id": "K2GJaYBpw91T"
      },
      "execution_count": null,
      "outputs": []
    },
    {
      "cell_type": "markdown",
      "source": [
        "**Write up**: \n",
        "* Link to the model on Hugging Face Hub: \n",
        "* Include some examples of misclassified images. Please explain what you might do to improve your model's performance on these images in the future (you do not need to impelement these suggestions)"
      ],
      "metadata": {
        "id": "qSeLed2JxvGI"
      }
    },
    {
      "cell_type": "markdown",
      "metadata": {
        "id": "sFU9LTOyMiMj"
      },
      "source": [
        "# 2. Deep Learning for NLP\n",
        "\n",
        "**Fake news classifier**: Train a text classification model to detect fake news articles!\n",
        "\n",
        "* Download the dataset here: https://www.kaggle.com/clmentbisaillon/fake-and-real-news-dataset\n",
        "* Develop an NLP model for classification that uses a pretrained language model\n",
        "* Finetune your model on the dataset, and generate an AUC curve of your model on the test set of your choice. \n",
        "* [Upload the the model to the Hugging Face Hub](https://huggingface.co/docs/hub/adding-a-model), and add a link to your model below.\n",
        "* *Answer the following question*: Look at some of the news articles that were classified incorrectly. Please explain what you might do to improve your model's performance on these news articles in the future (you do not need to impelement these suggestions)"
      ]
    },
    {
      "cell_type": "code",
      "source": [
        "### WRITE YOUR CODE TO TRAIN THE MODEL HERE"
      ],
      "metadata": {
        "id": "E90i018KyJH3"
      },
      "execution_count": null,
      "outputs": []
    },
    {
      "cell_type": "markdown",
      "source": [
        "**Write up**: \n",
        "* Link to the model on Hugging Face Hub: \n",
        "* Include some examples of misclassified news articles. Please explain what you might do to improve your model's performance on these news articles in the future (you do not need to impelement these suggestions)"
      ],
      "metadata": {
        "id": "kpInVUMLyJ24"
      }
    },
    {
      "cell_type": "markdown",
      "metadata": {
        "id": "jTfHpo6BOmE8"
      },
      "source": [
        "# 3. Deep RL / Robotics"
      ]
    },
    {
      "cell_type": "markdown",
      "metadata": {
        "id": "saB64bbTXWgZ"
      },
      "source": [
        "**RL for Classical Control:** Using any of the [classical control](https://github.com/openai/gym/blob/master/docs/environments.md#classic-control) environments from OpenAI's `gym`, implement a deep NN that learns an optimal policy which maximizes the reward of the environment.\n",
        "\n",
        "* Describe the NN you implemented and the behavior you observe from the agent as the model converges (or diverges).\n",
        "* Plot the reward as a function of steps (or Epochs).\n",
        "Compare your results to a random agent.\n",
        "* Discuss whether you think your model has learned the optimal policy and potential methods for improving it and/or where it might fail.\n",
        "* (Optional) [Upload the the model to the Hugging Face Hub](https://huggingface.co/docs/hub/adding-a-model), and add a link to your model below.\n",
        "\n",
        "\n",
        "You may use any frameworks you like, but you must implement your NN on your own (no pre-defined/trained models like [`stable_baselines`](https://stable-baselines.readthedocs.io/en/master/)).\n",
        "\n",
        "You may use any simulator other than `gym` _however_:\n",
        "* The environment has to be similar to the classical control environments (or more complex like [`robosuite`](https://github.com/ARISE-Initiative/robosuite)).\n",
        "* You cannot choose a game/Atari/text based environment. The purpose of this challenge is to demonstrate an understanding of basic kinematic/dynamic systems."
      ]
    },
    {
      "cell_type": "code",
      "source": [
        "### WRITE YOUR CODE TO TRAIN THE MODEL HERE"
      ],
      "metadata": {
        "id": "CUhkTcoeynVv"
      },
      "execution_count": null,
      "outputs": []
    },
    {
      "cell_type": "markdown",
      "source": [
        "**Write up**: \n",
        "* (Optional) link to the model on Hugging Face Hub: \n",
        "* Discuss whether you think your model has learned the optimal policy and potential methods for improving it and/or where it might fail."
      ],
      "metadata": {
        "id": "bWllPZhJyotg"
      }
    },
    {
      "cell_type": "markdown",
      "metadata": {
        "id": "rbrRbrISa5J_"
      },
      "source": [
        "# 4. Theory / Linear Algebra "
      ]
    },
    {
      "cell_type": "markdown",
      "metadata": {
        "id": "KFkLRCzTXTzL"
      },
      "source": [
        "**Implement Contrastive PCA** Read [this paper](https://www.nature.com/articles/s41467-018-04608-8) and implement contrastive PCA in Python.\n",
        "\n",
        "* First, please discuss what kind of dataset this would make sense to use this method on\n",
        "* Implement the method in Python (do not use previous implementations of the method if they already exist)\n",
        "* Then create a synthetic dataset and apply the method to the synthetic data. Compare with standard PCA.\n"
      ]
    },
    {
      "cell_type": "markdown",
      "source": [
        "**Write up**: Discuss what kind of dataset it would make sense to use Contrastive PCA"
      ],
      "metadata": {
        "id": "TpyqWl-ly0wy"
      }
    },
    {
      "cell_type": "code",
      "source": [
        "### WRITE YOUR CODE HERE"
      ],
      "metadata": {
        "id": "1CQzUSfQywRk"
      },
      "execution_count": null,
      "outputs": []
    },
    {
      "cell_type": "markdown",
      "source": [
        "# 5. Systems"
      ],
      "metadata": {
        "id": "dlqmZS5Hy6q-"
      }
    },
    {
      "cell_type": "markdown",
      "source": [
        "**Inference on the edge**: Measure the inference times in various computationally-constrained settings\n",
        "\n",
        "* Pick a few different speech detection models (we suggest looking at models  on the [Hugging Face Hub](https://huggingface.co/models?pipeline_tag=automatic-speech-recognition&sort=downloads))\n",
        "* Simulate different memory constraints and CPU allocations that are realistic for edge devices that might run such models, such as smart speakers or microcontrollers, and measure what is the average inference time of the models under these conditions \n",
        "* How does the inference time vary with (1) choice of model (2) available system memory (3) available CPU (4) size of input?\n",
        "\n",
        "Are there any surprising discoveries? (Note that this coding challenge is fairly open-ended, so we will be considering the amount of effort invested in discovering something interesting here)."
      ],
      "metadata": {
        "id": "QW_eiDFw1QKm"
      }
    },
    {
      "cell_type": "code",
      "source": [
        "### WRITE YOUR CODE HERE"
      ],
      "metadata": {
        "id": "OYp94wLP1kWJ"
      },
      "execution_count": null,
      "outputs": []
    },
    {
      "cell_type": "markdown",
      "source": [
        "**Write up**: What surprising discoveries do you see?"
      ],
      "metadata": {
        "id": "yoHmutWx2jer"
      }
    }
  ]
}
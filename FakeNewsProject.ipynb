{
  "nbformat": 4,
  "nbformat_minor": 0,
  "metadata": {
    "colab": {
      "name": "FakeNewsProject",
      "provenance": [],
      "collapsed_sections": [],
      "authorship_tag": "ABX9TyNzgDqUoo682SKBrdwOmn2u",
      "include_colab_link": true
    },
    "kernelspec": {
      "name": "python3",
      "display_name": "Python 3"
    },
    "language_info": {
      "name": "python"
    }
  },
  "cells": [
    {
      "cell_type": "markdown",
      "metadata": {
        "id": "view-in-github",
        "colab_type": "text"
      },
      "source": [
        "<a href=\"https://colab.research.google.com/github/subha-v/FatimaFellowshipProjectPublic/blob/main/FakeNewsProject.ipynb\" target=\"_parent\"><img src=\"https://colab.research.google.com/assets/colab-badge.svg\" alt=\"Open In Colab\"/></a>"
      ]
    },
    {
      "cell_type": "markdown",
      "source": [
        "Here we will import the necessary packages for the project."
      ],
      "metadata": {
        "id": "dwuIHhlF6rx5"
      }
    },
    {
      "cell_type": "code",
      "execution_count": 3,
      "metadata": {
        "id": "UMwlXIh3It3y"
      },
      "outputs": [],
      "source": [
        "import pandas as pd\n",
        "import numpy as np\n",
        "import matplotlib.pyplot as plt"
      ]
    },
    {
      "cell_type": "markdown",
      "source": [
        "Here we will import the datasets into the project."
      ],
      "metadata": {
        "id": "HYvPY4uV6xHC"
      }
    },
    {
      "cell_type": "code",
      "source": [
        "fakenews = pd.read_csv('/content/Fake.csv')\n",
        "truenews = pd.read_csv('/content/True.csv')"
      ],
      "metadata": {
        "id": "YzExRjggvBwB"
      },
      "execution_count": 4,
      "outputs": []
    },
    {
      "cell_type": "markdown",
      "source": [
        "# New Section"
      ],
      "metadata": {
        "id": "13b81XH-oNL9"
      }
    },
    {
      "cell_type": "markdown",
      "source": [
        "We're looking at the datasets to get a general idea of how they are formatted"
      ],
      "metadata": {
        "id": "3bnqW1c5626t"
      }
    },
    {
      "cell_type": "code",
      "source": [
        "fakenews.head()"
      ],
      "metadata": {
        "id": "aKJmRNxlwNYA",
        "colab": {
          "base_uri": "https://localhost:8080/",
          "height": 250
        },
        "outputId": "60b33ae2-0d3c-44f1-efa2-1f3a2e2ead55"
      },
      "execution_count": 5,
      "outputs": [
        {
          "output_type": "execute_result",
          "data": {
            "text/plain": [
              "                                               title  \\\n",
              "0   Donald Trump Sends Out Embarrassing New Year’...   \n",
              "1   Drunk Bragging Trump Staffer Started Russian ...   \n",
              "2   Sheriff David Clarke Becomes An Internet Joke...   \n",
              "3   Trump Is So Obsessed He Even Has Obama’s Name...   \n",
              "4   Pope Francis Just Called Out Donald Trump Dur...   \n",
              "\n",
              "                                                text subject  \\\n",
              "0  Donald Trump just couldn t wish all Americans ...    News   \n",
              "1  House Intelligence Committee Chairman Devin Nu...    News   \n",
              "2  On Friday, it was revealed that former Milwauk...    News   \n",
              "3  On Christmas day, Donald Trump announced that ...    News   \n",
              "4  Pope Francis used his annual Christmas Day mes...    News   \n",
              "\n",
              "                date  \n",
              "0  December 31, 2017  \n",
              "1  December 31, 2017  \n",
              "2  December 30, 2017  \n",
              "3  December 29, 2017  \n",
              "4  December 25, 2017  "
            ],
            "text/html": [
              "\n",
              "  <div id=\"df-02845326-d36f-418d-a2d7-75bda0c1c303\">\n",
              "    <div class=\"colab-df-container\">\n",
              "      <div>\n",
              "<style scoped>\n",
              "    .dataframe tbody tr th:only-of-type {\n",
              "        vertical-align: middle;\n",
              "    }\n",
              "\n",
              "    .dataframe tbody tr th {\n",
              "        vertical-align: top;\n",
              "    }\n",
              "\n",
              "    .dataframe thead th {\n",
              "        text-align: right;\n",
              "    }\n",
              "</style>\n",
              "<table border=\"1\" class=\"dataframe\">\n",
              "  <thead>\n",
              "    <tr style=\"text-align: right;\">\n",
              "      <th></th>\n",
              "      <th>title</th>\n",
              "      <th>text</th>\n",
              "      <th>subject</th>\n",
              "      <th>date</th>\n",
              "    </tr>\n",
              "  </thead>\n",
              "  <tbody>\n",
              "    <tr>\n",
              "      <th>0</th>\n",
              "      <td>Donald Trump Sends Out Embarrassing New Year’...</td>\n",
              "      <td>Donald Trump just couldn t wish all Americans ...</td>\n",
              "      <td>News</td>\n",
              "      <td>December 31, 2017</td>\n",
              "    </tr>\n",
              "    <tr>\n",
              "      <th>1</th>\n",
              "      <td>Drunk Bragging Trump Staffer Started Russian ...</td>\n",
              "      <td>House Intelligence Committee Chairman Devin Nu...</td>\n",
              "      <td>News</td>\n",
              "      <td>December 31, 2017</td>\n",
              "    </tr>\n",
              "    <tr>\n",
              "      <th>2</th>\n",
              "      <td>Sheriff David Clarke Becomes An Internet Joke...</td>\n",
              "      <td>On Friday, it was revealed that former Milwauk...</td>\n",
              "      <td>News</td>\n",
              "      <td>December 30, 2017</td>\n",
              "    </tr>\n",
              "    <tr>\n",
              "      <th>3</th>\n",
              "      <td>Trump Is So Obsessed He Even Has Obama’s Name...</td>\n",
              "      <td>On Christmas day, Donald Trump announced that ...</td>\n",
              "      <td>News</td>\n",
              "      <td>December 29, 2017</td>\n",
              "    </tr>\n",
              "    <tr>\n",
              "      <th>4</th>\n",
              "      <td>Pope Francis Just Called Out Donald Trump Dur...</td>\n",
              "      <td>Pope Francis used his annual Christmas Day mes...</td>\n",
              "      <td>News</td>\n",
              "      <td>December 25, 2017</td>\n",
              "    </tr>\n",
              "  </tbody>\n",
              "</table>\n",
              "</div>\n",
              "      <button class=\"colab-df-convert\" onclick=\"convertToInteractive('df-02845326-d36f-418d-a2d7-75bda0c1c303')\"\n",
              "              title=\"Convert this dataframe to an interactive table.\"\n",
              "              style=\"display:none;\">\n",
              "        \n",
              "  <svg xmlns=\"http://www.w3.org/2000/svg\" height=\"24px\"viewBox=\"0 0 24 24\"\n",
              "       width=\"24px\">\n",
              "    <path d=\"M0 0h24v24H0V0z\" fill=\"none\"/>\n",
              "    <path d=\"M18.56 5.44l.94 2.06.94-2.06 2.06-.94-2.06-.94-.94-2.06-.94 2.06-2.06.94zm-11 1L8.5 8.5l.94-2.06 2.06-.94-2.06-.94L8.5 2.5l-.94 2.06-2.06.94zm10 10l.94 2.06.94-2.06 2.06-.94-2.06-.94-.94-2.06-.94 2.06-2.06.94z\"/><path d=\"M17.41 7.96l-1.37-1.37c-.4-.4-.92-.59-1.43-.59-.52 0-1.04.2-1.43.59L10.3 9.45l-7.72 7.72c-.78.78-.78 2.05 0 2.83L4 21.41c.39.39.9.59 1.41.59.51 0 1.02-.2 1.41-.59l7.78-7.78 2.81-2.81c.8-.78.8-2.07 0-2.86zM5.41 20L4 18.59l7.72-7.72 1.47 1.35L5.41 20z\"/>\n",
              "  </svg>\n",
              "      </button>\n",
              "      \n",
              "  <style>\n",
              "    .colab-df-container {\n",
              "      display:flex;\n",
              "      flex-wrap:wrap;\n",
              "      gap: 12px;\n",
              "    }\n",
              "\n",
              "    .colab-df-convert {\n",
              "      background-color: #E8F0FE;\n",
              "      border: none;\n",
              "      border-radius: 50%;\n",
              "      cursor: pointer;\n",
              "      display: none;\n",
              "      fill: #1967D2;\n",
              "      height: 32px;\n",
              "      padding: 0 0 0 0;\n",
              "      width: 32px;\n",
              "    }\n",
              "\n",
              "    .colab-df-convert:hover {\n",
              "      background-color: #E2EBFA;\n",
              "      box-shadow: 0px 1px 2px rgba(60, 64, 67, 0.3), 0px 1px 3px 1px rgba(60, 64, 67, 0.15);\n",
              "      fill: #174EA6;\n",
              "    }\n",
              "\n",
              "    [theme=dark] .colab-df-convert {\n",
              "      background-color: #3B4455;\n",
              "      fill: #D2E3FC;\n",
              "    }\n",
              "\n",
              "    [theme=dark] .colab-df-convert:hover {\n",
              "      background-color: #434B5C;\n",
              "      box-shadow: 0px 1px 3px 1px rgba(0, 0, 0, 0.15);\n",
              "      filter: drop-shadow(0px 1px 2px rgba(0, 0, 0, 0.3));\n",
              "      fill: #FFFFFF;\n",
              "    }\n",
              "  </style>\n",
              "\n",
              "      <script>\n",
              "        const buttonEl =\n",
              "          document.querySelector('#df-02845326-d36f-418d-a2d7-75bda0c1c303 button.colab-df-convert');\n",
              "        buttonEl.style.display =\n",
              "          google.colab.kernel.accessAllowed ? 'block' : 'none';\n",
              "\n",
              "        async function convertToInteractive(key) {\n",
              "          const element = document.querySelector('#df-02845326-d36f-418d-a2d7-75bda0c1c303');\n",
              "          const dataTable =\n",
              "            await google.colab.kernel.invokeFunction('convertToInteractive',\n",
              "                                                     [key], {});\n",
              "          if (!dataTable) return;\n",
              "\n",
              "          const docLinkHtml = 'Like what you see? Visit the ' +\n",
              "            '<a target=\"_blank\" href=https://colab.research.google.com/notebooks/data_table.ipynb>data table notebook</a>'\n",
              "            + ' to learn more about interactive tables.';\n",
              "          element.innerHTML = '';\n",
              "          dataTable['output_type'] = 'display_data';\n",
              "          await google.colab.output.renderOutput(dataTable, element);\n",
              "          const docLink = document.createElement('div');\n",
              "          docLink.innerHTML = docLinkHtml;\n",
              "          element.appendChild(docLink);\n",
              "        }\n",
              "      </script>\n",
              "    </div>\n",
              "  </div>\n",
              "  "
            ]
          },
          "metadata": {},
          "execution_count": 5
        }
      ]
    },
    {
      "cell_type": "markdown",
      "source": [
        "We are combining both the datasets into one dataset and also adding a column regarding whether the news is true or fake"
      ],
      "metadata": {
        "id": "Fl4Ug38X6917"
      }
    },
    {
      "cell_type": "code",
      "source": [
        "fakenews['temp']= 0\n",
        "truenews['temp']= 1\n",
        "\n",
        "combined_dataset = pd.DataFrame()\n",
        "combined_dataset = truenews.append(fakenews)"
      ],
      "metadata": {
        "id": "Bj_lD8DsxS-7"
      },
      "execution_count": 6,
      "outputs": []
    },
    {
      "cell_type": "markdown",
      "source": [
        "Taking a look at the new dataset"
      ],
      "metadata": {
        "id": "lxzg_8Ch7O4E"
      }
    },
    {
      "cell_type": "code",
      "source": [
        "combined_dataset"
      ],
      "metadata": {
        "id": "1Gr5e4Eexe0f",
        "colab": {
          "base_uri": "https://localhost:8080/",
          "height": 641
        },
        "outputId": "fe500cbd-13fc-43a6-87db-f397e0ed3915"
      },
      "execution_count": 7,
      "outputs": [
        {
          "output_type": "execute_result",
          "data": {
            "text/plain": [
              "                                                   title  \\\n",
              "0      As U.S. budget fight looms, Republicans flip t...   \n",
              "1      U.S. military to accept transgender recruits o...   \n",
              "2      Senior U.S. Republican senator: 'Let Mr. Muell...   \n",
              "3      FBI Russia probe helped by Australian diplomat...   \n",
              "4      Trump wants Postal Service to charge 'much mor...   \n",
              "...                                                  ...   \n",
              "23476  McPain: John McCain Furious That Iran Treated ...   \n",
              "23477  JUSTICE? Yahoo Settles E-mail Privacy Class-ac...   \n",
              "23478  Sunnistan: US and Allied ‘Safe Zone’ Plan to T...   \n",
              "23479  How to Blow $700 Million: Al Jazeera America F...   \n",
              "23480  10 U.S. Navy Sailors Held by Iranian Military ...   \n",
              "\n",
              "                                                    text       subject  \\\n",
              "0      WASHINGTON (Reuters) - The head of a conservat...  politicsNews   \n",
              "1      WASHINGTON (Reuters) - Transgender people will...  politicsNews   \n",
              "2      WASHINGTON (Reuters) - The special counsel inv...  politicsNews   \n",
              "3      WASHINGTON (Reuters) - Trump campaign adviser ...  politicsNews   \n",
              "4      SEATTLE/WASHINGTON (Reuters) - President Donal...  politicsNews   \n",
              "...                                                  ...           ...   \n",
              "23476  21st Century Wire says As 21WIRE reported earl...   Middle-east   \n",
              "23477  21st Century Wire says It s a familiar theme. ...   Middle-east   \n",
              "23478  Patrick Henningsen  21st Century WireRemember ...   Middle-east   \n",
              "23479  21st Century Wire says Al Jazeera America will...   Middle-east   \n",
              "23480  21st Century Wire says As 21WIRE predicted in ...   Middle-east   \n",
              "\n",
              "                     date  temp  \n",
              "0      December 31, 2017      1  \n",
              "1      December 29, 2017      1  \n",
              "2      December 31, 2017      1  \n",
              "3      December 30, 2017      1  \n",
              "4      December 29, 2017      1  \n",
              "...                   ...   ...  \n",
              "23476    January 16, 2016     0  \n",
              "23477    January 16, 2016     0  \n",
              "23478    January 15, 2016     0  \n",
              "23479    January 14, 2016     0  \n",
              "23480    January 12, 2016     0  \n",
              "\n",
              "[44898 rows x 5 columns]"
            ],
            "text/html": [
              "\n",
              "  <div id=\"df-77914243-4906-484e-a415-f743523ecc2c\">\n",
              "    <div class=\"colab-df-container\">\n",
              "      <div>\n",
              "<style scoped>\n",
              "    .dataframe tbody tr th:only-of-type {\n",
              "        vertical-align: middle;\n",
              "    }\n",
              "\n",
              "    .dataframe tbody tr th {\n",
              "        vertical-align: top;\n",
              "    }\n",
              "\n",
              "    .dataframe thead th {\n",
              "        text-align: right;\n",
              "    }\n",
              "</style>\n",
              "<table border=\"1\" class=\"dataframe\">\n",
              "  <thead>\n",
              "    <tr style=\"text-align: right;\">\n",
              "      <th></th>\n",
              "      <th>title</th>\n",
              "      <th>text</th>\n",
              "      <th>subject</th>\n",
              "      <th>date</th>\n",
              "      <th>temp</th>\n",
              "    </tr>\n",
              "  </thead>\n",
              "  <tbody>\n",
              "    <tr>\n",
              "      <th>0</th>\n",
              "      <td>As U.S. budget fight looms, Republicans flip t...</td>\n",
              "      <td>WASHINGTON (Reuters) - The head of a conservat...</td>\n",
              "      <td>politicsNews</td>\n",
              "      <td>December 31, 2017</td>\n",
              "      <td>1</td>\n",
              "    </tr>\n",
              "    <tr>\n",
              "      <th>1</th>\n",
              "      <td>U.S. military to accept transgender recruits o...</td>\n",
              "      <td>WASHINGTON (Reuters) - Transgender people will...</td>\n",
              "      <td>politicsNews</td>\n",
              "      <td>December 29, 2017</td>\n",
              "      <td>1</td>\n",
              "    </tr>\n",
              "    <tr>\n",
              "      <th>2</th>\n",
              "      <td>Senior U.S. Republican senator: 'Let Mr. Muell...</td>\n",
              "      <td>WASHINGTON (Reuters) - The special counsel inv...</td>\n",
              "      <td>politicsNews</td>\n",
              "      <td>December 31, 2017</td>\n",
              "      <td>1</td>\n",
              "    </tr>\n",
              "    <tr>\n",
              "      <th>3</th>\n",
              "      <td>FBI Russia probe helped by Australian diplomat...</td>\n",
              "      <td>WASHINGTON (Reuters) - Trump campaign adviser ...</td>\n",
              "      <td>politicsNews</td>\n",
              "      <td>December 30, 2017</td>\n",
              "      <td>1</td>\n",
              "    </tr>\n",
              "    <tr>\n",
              "      <th>4</th>\n",
              "      <td>Trump wants Postal Service to charge 'much mor...</td>\n",
              "      <td>SEATTLE/WASHINGTON (Reuters) - President Donal...</td>\n",
              "      <td>politicsNews</td>\n",
              "      <td>December 29, 2017</td>\n",
              "      <td>1</td>\n",
              "    </tr>\n",
              "    <tr>\n",
              "      <th>...</th>\n",
              "      <td>...</td>\n",
              "      <td>...</td>\n",
              "      <td>...</td>\n",
              "      <td>...</td>\n",
              "      <td>...</td>\n",
              "    </tr>\n",
              "    <tr>\n",
              "      <th>23476</th>\n",
              "      <td>McPain: John McCain Furious That Iran Treated ...</td>\n",
              "      <td>21st Century Wire says As 21WIRE reported earl...</td>\n",
              "      <td>Middle-east</td>\n",
              "      <td>January 16, 2016</td>\n",
              "      <td>0</td>\n",
              "    </tr>\n",
              "    <tr>\n",
              "      <th>23477</th>\n",
              "      <td>JUSTICE? Yahoo Settles E-mail Privacy Class-ac...</td>\n",
              "      <td>21st Century Wire says It s a familiar theme. ...</td>\n",
              "      <td>Middle-east</td>\n",
              "      <td>January 16, 2016</td>\n",
              "      <td>0</td>\n",
              "    </tr>\n",
              "    <tr>\n",
              "      <th>23478</th>\n",
              "      <td>Sunnistan: US and Allied ‘Safe Zone’ Plan to T...</td>\n",
              "      <td>Patrick Henningsen  21st Century WireRemember ...</td>\n",
              "      <td>Middle-east</td>\n",
              "      <td>January 15, 2016</td>\n",
              "      <td>0</td>\n",
              "    </tr>\n",
              "    <tr>\n",
              "      <th>23479</th>\n",
              "      <td>How to Blow $700 Million: Al Jazeera America F...</td>\n",
              "      <td>21st Century Wire says Al Jazeera America will...</td>\n",
              "      <td>Middle-east</td>\n",
              "      <td>January 14, 2016</td>\n",
              "      <td>0</td>\n",
              "    </tr>\n",
              "    <tr>\n",
              "      <th>23480</th>\n",
              "      <td>10 U.S. Navy Sailors Held by Iranian Military ...</td>\n",
              "      <td>21st Century Wire says As 21WIRE predicted in ...</td>\n",
              "      <td>Middle-east</td>\n",
              "      <td>January 12, 2016</td>\n",
              "      <td>0</td>\n",
              "    </tr>\n",
              "  </tbody>\n",
              "</table>\n",
              "<p>44898 rows × 5 columns</p>\n",
              "</div>\n",
              "      <button class=\"colab-df-convert\" onclick=\"convertToInteractive('df-77914243-4906-484e-a415-f743523ecc2c')\"\n",
              "              title=\"Convert this dataframe to an interactive table.\"\n",
              "              style=\"display:none;\">\n",
              "        \n",
              "  <svg xmlns=\"http://www.w3.org/2000/svg\" height=\"24px\"viewBox=\"0 0 24 24\"\n",
              "       width=\"24px\">\n",
              "    <path d=\"M0 0h24v24H0V0z\" fill=\"none\"/>\n",
              "    <path d=\"M18.56 5.44l.94 2.06.94-2.06 2.06-.94-2.06-.94-.94-2.06-.94 2.06-2.06.94zm-11 1L8.5 8.5l.94-2.06 2.06-.94-2.06-.94L8.5 2.5l-.94 2.06-2.06.94zm10 10l.94 2.06.94-2.06 2.06-.94-2.06-.94-.94-2.06-.94 2.06-2.06.94z\"/><path d=\"M17.41 7.96l-1.37-1.37c-.4-.4-.92-.59-1.43-.59-.52 0-1.04.2-1.43.59L10.3 9.45l-7.72 7.72c-.78.78-.78 2.05 0 2.83L4 21.41c.39.39.9.59 1.41.59.51 0 1.02-.2 1.41-.59l7.78-7.78 2.81-2.81c.8-.78.8-2.07 0-2.86zM5.41 20L4 18.59l7.72-7.72 1.47 1.35L5.41 20z\"/>\n",
              "  </svg>\n",
              "      </button>\n",
              "      \n",
              "  <style>\n",
              "    .colab-df-container {\n",
              "      display:flex;\n",
              "      flex-wrap:wrap;\n",
              "      gap: 12px;\n",
              "    }\n",
              "\n",
              "    .colab-df-convert {\n",
              "      background-color: #E8F0FE;\n",
              "      border: none;\n",
              "      border-radius: 50%;\n",
              "      cursor: pointer;\n",
              "      display: none;\n",
              "      fill: #1967D2;\n",
              "      height: 32px;\n",
              "      padding: 0 0 0 0;\n",
              "      width: 32px;\n",
              "    }\n",
              "\n",
              "    .colab-df-convert:hover {\n",
              "      background-color: #E2EBFA;\n",
              "      box-shadow: 0px 1px 2px rgba(60, 64, 67, 0.3), 0px 1px 3px 1px rgba(60, 64, 67, 0.15);\n",
              "      fill: #174EA6;\n",
              "    }\n",
              "\n",
              "    [theme=dark] .colab-df-convert {\n",
              "      background-color: #3B4455;\n",
              "      fill: #D2E3FC;\n",
              "    }\n",
              "\n",
              "    [theme=dark] .colab-df-convert:hover {\n",
              "      background-color: #434B5C;\n",
              "      box-shadow: 0px 1px 3px 1px rgba(0, 0, 0, 0.15);\n",
              "      filter: drop-shadow(0px 1px 2px rgba(0, 0, 0, 0.3));\n",
              "      fill: #FFFFFF;\n",
              "    }\n",
              "  </style>\n",
              "\n",
              "      <script>\n",
              "        const buttonEl =\n",
              "          document.querySelector('#df-77914243-4906-484e-a415-f743523ecc2c button.colab-df-convert');\n",
              "        buttonEl.style.display =\n",
              "          google.colab.kernel.accessAllowed ? 'block' : 'none';\n",
              "\n",
              "        async function convertToInteractive(key) {\n",
              "          const element = document.querySelector('#df-77914243-4906-484e-a415-f743523ecc2c');\n",
              "          const dataTable =\n",
              "            await google.colab.kernel.invokeFunction('convertToInteractive',\n",
              "                                                     [key], {});\n",
              "          if (!dataTable) return;\n",
              "\n",
              "          const docLinkHtml = 'Like what you see? Visit the ' +\n",
              "            '<a target=\"_blank\" href=https://colab.research.google.com/notebooks/data_table.ipynb>data table notebook</a>'\n",
              "            + ' to learn more about interactive tables.';\n",
              "          element.innerHTML = '';\n",
              "          dataTable['output_type'] = 'display_data';\n",
              "          await google.colab.output.renderOutput(dataTable, element);\n",
              "          const docLink = document.createElement('div');\n",
              "          docLink.innerHTML = docLinkHtml;\n",
              "          element.appendChild(docLink);\n",
              "        }\n",
              "      </script>\n",
              "    </div>\n",
              "  </div>\n",
              "  "
            ]
          },
          "metadata": {},
          "execution_count": 7
        }
      ]
    },
    {
      "cell_type": "markdown",
      "source": [
        "We don't need the columns of date and subject for right now"
      ],
      "metadata": {
        "id": "hsEaOZ2V7wBD"
      }
    },
    {
      "cell_type": "code",
      "source": [
        "column = ['date','subject']\n",
        "combined_dataset = combined_dataset.drop(columns=column)"
      ],
      "metadata": {
        "id": "XVIIuTfvxndT"
      },
      "execution_count": 8,
      "outputs": []
    },
    {
      "cell_type": "markdown",
      "source": [
        "We can combine the title of the article with the body text and drop the title as well"
      ],
      "metadata": {
        "id": "DsXxXOdI7yYZ"
      }
    },
    {
      "cell_type": "code",
      "source": [
        "combined_dataset[\"text\"] = combined_dataset[\"text\"]+\" \"+ combined_dataset[\"title\"]"
      ],
      "metadata": {
        "id": "brmm6ETFyK6p"
      },
      "execution_count": 9,
      "outputs": []
    },
    {
      "cell_type": "code",
      "source": [
        "combined_dataset = combined_dataset.drop(columns=\"title\")"
      ],
      "metadata": {
        "id": "7lM7g0uaAlnh"
      },
      "execution_count": 10,
      "outputs": []
    },
    {
      "cell_type": "code",
      "source": [
        "# Checking our data"
      ],
      "metadata": {
        "id": "lSs_94lpuW2M"
      },
      "execution_count": 11,
      "outputs": []
    },
    {
      "cell_type": "code",
      "source": [
        "combined_dataset.iloc[30689].to_numpy()"
      ],
      "metadata": {
        "colab": {
          "base_uri": "https://localhost:8080/"
        },
        "id": "dLycKxqxtq7w",
        "outputId": "a26dba7f-96ad-4a0f-90d1-447d4e762302"
      },
      "execution_count": 12,
      "outputs": [
        {
          "output_type": "execute_result",
          "data": {
            "text/plain": [
              "array(['The DOJ is reporting that they basically took American taxpayer dollars and started a bonfire with it In light of the fact that key investigators are severely compromised, this case is just a witch hunt that s gone off the rails. A few key details about the fired anti-Trump investigator who wasn t fired but moved to Human Resources by Comey:Peter Strzok sent anti-Trump messages to his  girlfriend   aka mistress then was just moved to HR. He s a part of the Comey/McCabe group. He handled the Fake Trump Dossier inside the FBI alongside McCabe. He was hand-picked by Comey to run the Hillary e-mail investigation. He was also hand-picked by Mueller for the senior investigative staff. Coincidences like this simply don t exist .BURNING YOUR HARD-EARNED DOLLARS:The Department of Justice revealed on Tuesday that nearly $7 million has been spent so far on the investigation into Russian meddling in the 2016 presidential election.The costs cover a five-month period from May 17, when the Department of Justice appointed Robert Mueller as special counsel for the Russia investigation, to Sept. 30, the end of the fiscal year, CNN reports.Deputy Attorney General Rod Rosentstein authorized the budget for the probe.The expenditures can be divided into two main categories: approximately $3.2 million spent by Mueller, and an additional $3.5 million spent on other Department of Justice components to support the investigation, including investigators from the FBI. Tuesday s revelation marks the first time the public has learned about how much taxpayer money has been spent on the Russia investigation.Congress has also been investigating Russian interference in the 2016 election, with multiple congressional committees conducting their own probes in both the House and Senate.Mueller s investigation has so far resulted in President Donald Trump s former national security adviser, Michael Flynn, pleading guilty to lying to the FBI about his contacts with the Russian ambassador to the U.S., and the indictment of Trump s former campaign manager, Paul Manafort, along with a longtime business associate. THE DOJ TOOK $7 MILLION TAXPAYER DOLLARS AND STARTED A BONFIRE…’Russian Meddling’ Probe Goes off The Rails',\n",
              "       0], dtype=object)"
            ]
          },
          "metadata": {},
          "execution_count": 12
        }
      ]
    },
    {
      "cell_type": "markdown",
      "source": [
        "Processing the data using NLTK Package"
      ],
      "metadata": {
        "id": "wDtLz9UqQ7_d"
      }
    },
    {
      "cell_type": "code",
      "source": [
        "# now we will process the data using NLTK\n",
        "import nltk\n",
        "import re\n",
        "nltk.download('stopwords')"
      ],
      "metadata": {
        "colab": {
          "base_uri": "https://localhost:8080/"
        },
        "id": "IlMK6QrzyO4k",
        "outputId": "605ebd63-fb4d-4084-fc65-bda5417ea824"
      },
      "execution_count": 13,
      "outputs": [
        {
          "output_type": "stream",
          "name": "stdout",
          "text": [
            "[nltk_data] Downloading package stopwords to /root/nltk_data...\n",
            "[nltk_data]   Unzipping corpora/stopwords.zip.\n"
          ]
        },
        {
          "output_type": "execute_result",
          "data": {
            "text/plain": [
              "True"
            ]
          },
          "metadata": {},
          "execution_count": 13
        }
      ]
    },
    {
      "cell_type": "markdown",
      "source": [
        "Importing other useful functions"
      ],
      "metadata": {
        "id": "Nrn5cyUeQ_kb"
      }
    },
    {
      "cell_type": "code",
      "source": [
        "import nltk\n",
        "from nltk.corpus import stopwords\n",
        "stop_words = set(stopwords.words('english'))\n",
        "from nltk.stem.snowball import SnowballStemmer\n",
        "st = SnowballStemmer('english')\n",
        "from nltk.stem.porter import PorterStemmer\n",
        "from nltk.stem import WordNetLemmatizer"
      ],
      "metadata": {
        "id": "0Iv8htjCYZBL"
      },
      "execution_count": 14,
      "outputs": []
    },
    {
      "cell_type": "markdown",
      "source": [
        "Here are all the functions we will be using to clean the data before running the model on it"
      ],
      "metadata": {
        "id": "cNruITx7RYSF"
      }
    },
    {
      "cell_type": "code",
      "source": [
        "def remove_punctuation(text):  \n",
        "    return re.sub(r'[^\\w\\s]','', str(text))             \n",
        "                  \n",
        "def remove_stopwords(text):  #Removing stopwords(eg. this, that, am, be etc)\n",
        "    stop = stopwords.words(\"english\")\n",
        "    final_text = []\n",
        "    for i in str(text).split():\n",
        "        if i.strip() not in stop:\n",
        "            final_text.append(i.strip())\n",
        "    return \" \".join(final_text)\n",
        "                          \n",
        "                  \n",
        "def lemmatization(text):  #Applying Lemaatization \n",
        "    wordnet_lemmatizer = WordNetLemmatizer()\n",
        "    return wordnet_lemmatizer.lemmatize(str(text))\n",
        "\n",
        "# make function to remove links"
      ],
      "metadata": {
        "id": "ObLJm9GQA2F6"
      },
      "execution_count": 15,
      "outputs": []
    },
    {
      "cell_type": "code",
      "source": [
        "  >>> import nltk\n",
        "  >>> nltk.download('wordnet')"
      ],
      "metadata": {
        "colab": {
          "base_uri": "https://localhost:8080/"
        },
        "id": "oIEld9lYBTGo",
        "outputId": "77cc612e-5cda-43c7-e91e-abf8436095c5"
      },
      "execution_count": 16,
      "outputs": [
        {
          "output_type": "stream",
          "name": "stdout",
          "text": [
            "[nltk_data] Downloading package wordnet to /root/nltk_data...\n",
            "[nltk_data]   Unzipping corpora/wordnet.zip.\n"
          ]
        },
        {
          "output_type": "execute_result",
          "data": {
            "text/plain": [
              "True"
            ]
          },
          "metadata": {},
          "execution_count": 16
        }
      ]
    },
    {
      "cell_type": "markdown",
      "source": [
        "Actually cleaning the dataset"
      ],
      "metadata": {
        "id": "qqhuA_bjRilI"
      }
    },
    {
      "cell_type": "code",
      "source": [
        "def clean_text(text):\n",
        "    # text =  remove_stopwords(text)\n",
        "    return lemmatization(text)\n",
        "\n",
        "combined_dataset['text'] = combined_dataset['text'].apply(lambda x: clean_text(x))\n",
        "# applying the clean_text to each row in the dataframe using lambda"
      ],
      "metadata": {
        "id": "vpxDfbEMBF5J"
      },
      "execution_count": 17,
      "outputs": []
    },
    {
      "cell_type": "code",
      "source": [
        "combined_dataset.iloc[30689].to_numpy()"
      ],
      "metadata": {
        "colab": {
          "base_uri": "https://localhost:8080/"
        },
        "id": "5ceLnPWYuoky",
        "outputId": "1f15f7d8-4a7c-491c-846b-7d588687b5bc"
      },
      "execution_count": 18,
      "outputs": [
        {
          "output_type": "execute_result",
          "data": {
            "text/plain": [
              "array(['The DOJ is reporting that they basically took American taxpayer dollars and started a bonfire with it In light of the fact that key investigators are severely compromised, this case is just a witch hunt that s gone off the rails. A few key details about the fired anti-Trump investigator who wasn t fired but moved to Human Resources by Comey:Peter Strzok sent anti-Trump messages to his  girlfriend   aka mistress then was just moved to HR. He s a part of the Comey/McCabe group. He handled the Fake Trump Dossier inside the FBI alongside McCabe. He was hand-picked by Comey to run the Hillary e-mail investigation. He was also hand-picked by Mueller for the senior investigative staff. Coincidences like this simply don t exist .BURNING YOUR HARD-EARNED DOLLARS:The Department of Justice revealed on Tuesday that nearly $7 million has been spent so far on the investigation into Russian meddling in the 2016 presidential election.The costs cover a five-month period from May 17, when the Department of Justice appointed Robert Mueller as special counsel for the Russia investigation, to Sept. 30, the end of the fiscal year, CNN reports.Deputy Attorney General Rod Rosentstein authorized the budget for the probe.The expenditures can be divided into two main categories: approximately $3.2 million spent by Mueller, and an additional $3.5 million spent on other Department of Justice components to support the investigation, including investigators from the FBI. Tuesday s revelation marks the first time the public has learned about how much taxpayer money has been spent on the Russia investigation.Congress has also been investigating Russian interference in the 2016 election, with multiple congressional committees conducting their own probes in both the House and Senate.Mueller s investigation has so far resulted in President Donald Trump s former national security adviser, Michael Flynn, pleading guilty to lying to the FBI about his contacts with the Russian ambassador to the U.S., and the indictment of Trump s former campaign manager, Paul Manafort, along with a longtime business associate. THE DOJ TOOK $7 MILLION TAXPAYER DOLLARS AND STARTED A BONFIRE…’Russian Meddling’ Probe Goes off The Rails',\n",
              "       0], dtype=object)"
            ]
          },
          "metadata": {},
          "execution_count": 18
        }
      ]
    },
    {
      "cell_type": "code",
      "source": [
        "all_text = combined_dataset['text']"
      ],
      "metadata": {
        "id": "hz5hRwgubRsZ"
      },
      "execution_count": 19,
      "outputs": []
    },
    {
      "cell_type": "markdown",
      "source": [
        "This is an example of getting a specific line of text in the total text"
      ],
      "metadata": {
        "id": "f68AAkBq51W8"
      }
    },
    {
      "cell_type": "code",
      "source": [
        "all_text[780].to_numpy()"
      ],
      "metadata": {
        "colab": {
          "base_uri": "https://localhost:8080/"
        },
        "id": "tGbGZrKNqQGf",
        "outputId": "2a43e2d8-6f9c-49ea-a1f2-3e670f287998"
      },
      "execution_count": 32,
      "outputs": [
        {
          "output_type": "execute_result",
          "data": {
            "text/plain": [
              "array([\"SEOUL (Reuters) - South Korean President Moon Jae-in had initially suggested on Tuesday that U.S. President Donald Trump make a visit to the demilitarized zone (DMZ) between North and South Korea, a Blue House official told reporters on Wednesday. Trump had told Moon he had been considering such a trip, and Moon said he would accompany Trump should the U.S. president decide to visit the DMZ, the official said. The U.S. president aborted a surprise visit to the DMZ on Wednesday morning due to fog after two attempts.  South Korea's Moon first suggested Trump visit DMZ: Blue House official\",\n",
              "       \"Michelle Obama really did it this time. The former First Lady managed to infuriate conservatives by doing some so terrible that they were forced to use words like  ghetto  and  trash  and  ape  to describe her (you know, their go-to language whenever a person with skin darker than a piece of classroom chalk is involved).What did she do that was so terrible? She went to Beyonce s birthday party last year.So, what set them off about this now? Video surfaced of her having fun, of course.Never Before Seen private footage of Beyonc , Solange & Michelle Obama! #ByeFelicia ?? pic.twitter.com/VrTz6sgsUc  THE BEYHIV  (@TheBeyHiveTeam) July 21, 2017The video with Michelle Obama is from Beyonc 's private birthday party last year. pic.twitter.com/drLp6fw4Vo  THE BEYHIV  (@TheBeyHiveTeam) July 21, 2017Naturally, this was so horrible that the Reich   err, Right   flocked to Facebook to share what could be loosely called their  thoughts  (they are, of course, incapable of actual thought) about this perfectly harmless video of the First Lady having a bit of fun.         Racist attacks  on the Obamas has become something of a sport with conservatives. Recently, Malia Obama celebrated her 19th birthday   a joyous occasion for her, a reason to let the Confederate flags fly for  them. Unfortunately, this is what we have come to expect of our frenemies on the Right   horrible racism and an inability to engage in civil discussion about anything at all.Featured image via screengrab  Michelle Obama Went To A Birthday Party, So Conservatives Called Her ‘Ghetto Trash’ (SCREENSHOTS)\"],\n",
              "      dtype=object)"
            ]
          },
          "metadata": {},
          "execution_count": 32
        }
      ]
    },
    {
      "cell_type": "code",
      "source": [
        ""
      ],
      "metadata": {
        "id": "fJCjpqbs6AAq"
      },
      "execution_count": null,
      "outputs": []
    },
    {
      "cell_type": "markdown",
      "source": [
        "This creates a vector of all of the unique words and their relative frequencies amongst all of the texts by using SciKitLearn. "
      ],
      "metadata": {
        "id": "VmrF4LufS2qe"
      }
    },
    {
      "cell_type": "code",
      "source": [
        "from sklearn.feature_extraction.text import CountVectorizer\n",
        "cv = CountVectorizer()\n",
        "all_text = cv.fit_transform(all_text)"
      ],
      "metadata": {
        "id": "zNTIVZeal41K"
      },
      "execution_count": 34,
      "outputs": []
    },
    {
      "cell_type": "markdown",
      "source": [
        "Here we are printing the array"
      ],
      "metadata": {
        "id": "YjsTFD076HCp"
      }
    },
    {
      "cell_type": "code",
      "source": [
        "cv.get_feature_names_out()"
      ],
      "metadata": {
        "colab": {
          "base_uri": "https://localhost:8080/"
        },
        "id": "BdlGgky-rnE1",
        "outputId": "d59ed897-05e4-45b6-ab0e-40eccee6bee3"
      },
      "execution_count": 35,
      "outputs": [
        {
          "output_type": "execute_result",
          "data": {
            "text/plain": [
              "array(['00', '000', '0000', ..., 'émigré', 'état', 'žižek'], dtype=object)"
            ]
          },
          "metadata": {},
          "execution_count": 35
        }
      ]
    },
    {
      "cell_type": "markdown",
      "source": [
        "Here we are looking at a specific row in the array, as we can see, it's a very sparse matrix\n",
        "\n"
      ],
      "metadata": {
        "id": "fnE_3Sl46LUq"
      }
    },
    {
      "cell_type": "code",
      "source": [
        "all_text[0,:].toarray()"
      ],
      "metadata": {
        "colab": {
          "base_uri": "https://localhost:8080/"
        },
        "id": "QtP8zY3JzD_R",
        "outputId": "4b19a3cb-c855-4541-c668-b5aca3035b9d"
      },
      "execution_count": 36,
      "outputs": [
        {
          "output_type": "execute_result",
          "data": {
            "text/plain": [
              "array([[0, 0, 0, ..., 0, 0, 0]])"
            ]
          },
          "metadata": {},
          "execution_count": 36
        }
      ]
    },
    {
      "cell_type": "markdown",
      "source": [
        "Here we are creating an array containing the prediction values, true or false"
      ],
      "metadata": {
        "id": "2AMgHQJE6XlO"
      }
    },
    {
      "cell_type": "code",
      "source": [
        "truth_or_false = combined_dataset['temp']"
      ],
      "metadata": {
        "id": "LAVd-ma6bkCd"
      },
      "execution_count": 21,
      "outputs": []
    },
    {
      "cell_type": "markdown",
      "source": [
        "Here we are using the sklearn package to split the dataframe into training and testing sets"
      ],
      "metadata": {
        "id": "IHIPUti16cWP"
      }
    },
    {
      "cell_type": "code",
      "source": [
        "from keras.preprocessing import sequence, text\n",
        "from sklearn.model_selection import train_test_split\n",
        "xtrain, xvalid, ytrain, yvalid = train_test_split(all_text, truth_or_false, \n",
        "                                                  random_state=42, \n",
        "                                                  test_size=0.15, shuffle=True)"
      ],
      "metadata": {
        "id": "Nif-V8Ry63tN"
      },
      "execution_count": 38,
      "outputs": []
    },
    {
      "cell_type": "markdown",
      "source": [
        "Fitting a logistic classification model to your data, not a regression model"
      ],
      "metadata": {
        "id": "0YJBE8gis5If"
      }
    },
    {
      "cell_type": "code",
      "source": [
        "from sklearn.linear_model import LogisticRegression\n",
        "LR = LogisticRegression(solver='lbfgs', max_iter=1000)\n",
        "LR.fit(xtrain,ytrain)\n",
        "predictions2 = LR.predict(xvalid)"
      ],
      "metadata": {
        "id": "ook9ob8_DWMv"
      },
      "execution_count": 46,
      "outputs": []
    },
    {
      "cell_type": "code",
      "source": [
        "yvalidnumpy = yvalid.to_numpy()"
      ],
      "metadata": {
        "id": "qdMwtngN_E8R"
      },
      "execution_count": 55,
      "outputs": []
    },
    {
      "cell_type": "code",
      "source": [
        "predictions2"
      ],
      "metadata": {
        "colab": {
          "base_uri": "https://localhost:8080/"
        },
        "id": "b9VlclPn-enu",
        "outputId": "5f87c505-e0cf-4321-b986-8965b6956f82"
      },
      "execution_count": 50,
      "outputs": [
        {
          "output_type": "execute_result",
          "data": {
            "text/plain": [
              "array([0, 0, 0, ..., 1, 0, 1])"
            ]
          },
          "metadata": {},
          "execution_count": 50
        }
      ]
    },
    {
      "cell_type": "code",
      "source": [
        "wrongly_classified = []\n",
        "for i in range (0,len(predictions2)):\n",
        "  if(predictions2[i]!=yvalidnumpy[i]):\n",
        "    wrongly_classified.append(combined_dataset[\"text\"][i])"
      ],
      "metadata": {
        "id": "2kfeJe73-i9V"
      },
      "execution_count": 58,
      "outputs": []
    },
    {
      "cell_type": "code",
      "source": [
        "wrongly_classified"
      ],
      "metadata": {
        "id": "vakHFGfH_MOi"
      },
      "execution_count": null,
      "outputs": []
    },
    {
      "cell_type": "code",
      "source": [
        "from sklearn.metrics import confusion_matrix, classification_report\n",
        "print(confusion_matrix(yvalid,predictions2))\n",
        "print('\\n')\n",
        "print(classification_report(yvalid,predictions2))"
      ],
      "metadata": {
        "colab": {
          "base_uri": "https://localhost:8080/"
        },
        "id": "6ct1ED9sDtvg",
        "outputId": "10ff2941-7de0-430d-95bf-333455922249"
      },
      "execution_count": 47,
      "outputs": [
        {
          "output_type": "stream",
          "name": "stdout",
          "text": [
            "[[3516   10]\n",
            " [  11 3198]]\n",
            "\n",
            "\n",
            "              precision    recall  f1-score   support\n",
            "\n",
            "           0       1.00      1.00      1.00      3526\n",
            "           1       1.00      1.00      1.00      3209\n",
            "\n",
            "    accuracy                           1.00      6735\n",
            "   macro avg       1.00      1.00      1.00      6735\n",
            "weighted avg       1.00      1.00      1.00      6735\n",
            "\n"
          ]
        }
      ]
    },
    {
      "cell_type": "code",
      "source": [
        "from sklearn.naive_bayes import MultinomialNB\n",
        "nb = MultinomialNB()\n",
        "nb.fit(xtrain, ytrain)\n",
        "predictions = nb.predict(xvalid)"
      ],
      "metadata": {
        "id": "0yoX4gMqcOaT"
      },
      "execution_count": 48,
      "outputs": []
    },
    {
      "cell_type": "code",
      "source": [
        "from sklearn.metrics import confusion_matrix, classification_report\n",
        "print(confusion_matrix(yvalid,predictions))\n",
        "print('\\n')\n",
        "print(classification_report(yvalid,predictions))"
      ],
      "metadata": {
        "colab": {
          "base_uri": "https://localhost:8080/"
        },
        "id": "rwuNlzr1mR66",
        "outputId": "356c2e8e-9ec7-42ef-dce4-ff10f168f748"
      },
      "execution_count": 49,
      "outputs": [
        {
          "output_type": "stream",
          "name": "stdout",
          "text": [
            "[[3374  152]\n",
            " [ 141 3068]]\n",
            "\n",
            "\n",
            "              precision    recall  f1-score   support\n",
            "\n",
            "           0       0.96      0.96      0.96      3526\n",
            "           1       0.95      0.96      0.95      3209\n",
            "\n",
            "    accuracy                           0.96      6735\n",
            "   macro avg       0.96      0.96      0.96      6735\n",
            "weighted avg       0.96      0.96      0.96      6735\n",
            "\n"
          ]
        }
      ]
    },
    {
      "cell_type": "code",
      "source": [
        "import pickle"
      ],
      "metadata": {
        "id": "XqxwAXgRATDm"
      },
      "execution_count": 60,
      "outputs": []
    },
    {
      "cell_type": "code",
      "source": [
        "filename = 'finalized_model.sav'"
      ],
      "metadata": {
        "id": "NlYvYUqGAUCE"
      },
      "execution_count": 61,
      "outputs": []
    },
    {
      "cell_type": "code",
      "source": [
        "pickle.dump(nb, open(filename, 'wb'))"
      ],
      "metadata": {
        "id": "UtP-8yHoAYnU"
      },
      "execution_count": 62,
      "outputs": []
    },
    {
      "cell_type": "code",
      "source": [
        "import matplotlib.pyplot as plt"
      ],
      "metadata": {
        "id": "fRoQ7rMbB_s4"
      },
      "execution_count": 64,
      "outputs": []
    },
    {
      "cell_type": "code",
      "source": [
        "from sklearn.metrics import roc_curve, auc\n",
        "logistic_fpr, logistic_tpr, threshold = roc_curve(yvalid, predictions2)\n",
        "auc_logistic = auc(logistic_fpr, logistic_tpr)\n",
        "\n",
        "\n",
        "naive_fpr, naive_tpr, threshold = roc_curve(yvalid, predictions)\n",
        "auc_naive = auc(naive_fpr, naive_tpr)"
      ],
      "metadata": {
        "id": "WL4FEHgOCMrN"
      },
      "execution_count": 74,
      "outputs": []
    },
    {
      "cell_type": "code",
      "source": [
        "auc_logistic"
      ],
      "metadata": {
        "colab": {
          "base_uri": "https://localhost:8080/"
        },
        "id": "bPTsNe3bCsYM",
        "outputId": "b69e0d4e-8462-44fb-fbfe-c9b18ed66b89"
      },
      "execution_count": 72,
      "outputs": [
        {
          "output_type": "execute_result",
          "data": {
            "text/plain": [
              "0.9564763700786943"
            ]
          },
          "metadata": {},
          "execution_count": 72
        }
      ]
    },
    {
      "cell_type": "code",
      "source": [
        "plt.figure(figsize=(5,5), dpi=100)\n",
        "plt.plot(logistic_fpr, logistic_tpr, marker = '.', label= \"Logistic\" % auc_logistic)\n",
        "plt.plot(naive_fpr, naive_tpr, marker = '*', label= \"Naive\" % auc_naive)\n",
        "\n",
        "plt.xlabel('False Positive Rate')\n",
        "plt.ylabel('True Positive Rate')\n",
        "plt.legend()\n",
        "plt.show()"
      ],
      "metadata": {
        "colab": {
          "base_uri": "https://localhost:8080/",
          "height": 457
        },
        "id": "Vll6HQEmCv9j",
        "outputId": "2e368b80-29ee-4537-963b-d160ba76e871"
      },
      "execution_count": 81,
      "outputs": [
        {
          "output_type": "display_data",
          "data": {
            "text/plain": [
              "<Figure size 500x500 with 1 Axes>"
            ],
            "image/png": "[encoded data removed]"
          },
          "metadata": {
            "needs_background": "light"
          }
        }
      ]
    }
  ]
}